{
  "nbformat": 4,
  "nbformat_minor": 0,
  "metadata": {
    "colab": {
      "provenance": [],
      "gpuType": "T4"
    },
    "kernelspec": {
      "name": "python3",
      "display_name": "Python 3"
    },
    "language_info": {
      "name": "python"
    },
    "accelerator": "GPU"
  },
  "cells": [
    {
      "cell_type": "markdown",
      "source": [
        "# **DEEP LEARNING COURSE PROJECT (IMAGE CLASSIFICATION)**\n",
        "\n",
        "### **NAME:** ANISH SRIRAM B S\n",
        "### **SCHOOL:** SCDS\n",
        "### **EMAIL:** anishsriram.b-26@scds.saiuniversity.edu.in"
      ],
      "metadata": {
        "id": "NOl3u_mdJzBy"
      }
    },
    {
      "cell_type": "markdown",
      "source": [
        "## TRANSFER LEARNING - INCEPTION RESNETV2 MODEL"
      ],
      "metadata": {
        "id": "TvPrEmFoJ3la"
      }
    },
    {
      "cell_type": "markdown",
      "source": [
        "### LOADING THE DATASET"
      ],
      "metadata": {
        "id": "_tgCfhscKEhh"
      }
    },
    {
      "cell_type": "markdown",
      "source": [
        "### Details:\n",
        "\n",
        "*   Total Number of Images in the Dataset: 1661\n",
        "*   Number of Images present per class:\n",
        "    *   Number of Images in Motorbikes: 500\n",
        "    *   Number of Images in Airplanes: 500\n",
        "    *   Number of Images in Schooner: 63\n",
        "*   Total Number of Images used for Training and Testing: 1063\n",
        "    *   Number of Images used for Training: 797\n",
        "    *   Number of Images used for Testing: 266"
      ],
      "metadata": {
        "id": "173vxXZm8Mud"
      }
    },
    {
      "cell_type": "code",
      "execution_count": 1,
      "metadata": {
        "id": "v6hdulogJpfK"
      },
      "outputs": [],
      "source": [
        "# Importing necessary modules\n",
        "import tensorflow as tf\n",
        "from tensorflow import keras\n",
        "import numpy as np\n",
        "import matplotlib.pyplot as plt\n",
        "import glob\n",
        "import PIL\n",
        "from PIL import Image\n",
        "from sklearn.preprocessing import LabelEncoder\n",
        "from sklearn.model_selection import train_test_split\n",
        "from collections import Counter\n",
        "from numpy import save\n",
        "from numpy import load"
      ]
    },
    {
      "cell_type": "code",
      "source": [
        "from google.colab import drive\n",
        "drive.mount('/content/drive',force_remount=True)"
      ],
      "metadata": {
        "colab": {
          "base_uri": "https://localhost:8080/"
        },
        "id": "M-AFwIDfKIYF",
        "outputId": "f14383cc-f2ef-43a0-ebb6-3fce3cca7569"
      },
      "execution_count": 2,
      "outputs": [
        {
          "output_type": "stream",
          "name": "stdout",
          "text": [
            "Mounted at /content/drive\n"
          ]
        }
      ]
    },
    {
      "cell_type": "code",
      "source": [
        "# Loading the dataset which is already processed\n",
        "X_train_std = load('/content/drive/MyDrive/Deep Learning Project/Dataset/X_train_std.npy')\n",
        "X_test_std = load('/content/drive/MyDrive/Deep Learning Project/Dataset/X_test_std.npy')\n",
        "y_train = load('/content/drive/MyDrive/Deep Learning Project/Dataset/y_train.npy')\n",
        "y_test = load('/content/drive/MyDrive/Deep Learning Project/Dataset/y_test.npy')\n",
        "\n",
        "print(\"X_train_std_shape:\",X_train_std.shape)\n",
        "print(\"X_test_std_shape:\",X_test_std.shape)\n",
        "print(\"y_train_shape:\",y_train.shape)\n",
        "print(\"y_test_shape:\",y_test.shape)"
      ],
      "metadata": {
        "colab": {
          "base_uri": "https://localhost:8080/"
        },
        "id": "9nV20puzKLK-",
        "outputId": "a6898654-3d3a-4826-e72a-6abff93540b8"
      },
      "execution_count": 3,
      "outputs": [
        {
          "output_type": "stream",
          "name": "stdout",
          "text": [
            "X_train_std_shape: (797, 299, 299, 3)\n",
            "X_test_std_shape: (266, 299, 299, 3)\n",
            "y_train_shape: (797,)\n",
            "y_test_shape: (266,)\n"
          ]
        }
      ]
    },
    {
      "cell_type": "markdown",
      "source": [
        "### TRANSFER LEARNING"
      ],
      "metadata": {
        "id": "XfIAcYdhKQM4"
      }
    },
    {
      "cell_type": "code",
      "source": [
        "# Loading the feature extractor part of the ResNet101V2 model\n",
        "base_model = keras.applications.InceptionResNetV2(weights='imagenet',include_top=False)\n",
        "\n",
        "# Setting the weights of the feature extractor part as non trainable\n",
        "for layer in base_model.layers:\n",
        "  layer.trainable = False\n",
        "\n",
        "# Defining the classifier part\n",
        "global_avg_pooling = keras.layers.GlobalAveragePooling2D()(base_model.output) # Performing Global Average Pooling\n",
        "x_dropout = keras.layers.Dropout(0.15)(global_avg_pooling) # Performing Dropout with 15% drop rate\n",
        "output_ = keras.layers.Dense(units=3,activation=\"softmax\")(x_dropout) # Output layer\n",
        "\n",
        "model_3_TL = keras.models.Model(inputs=[base_model.input],outputs=[output_])\n",
        "\n"
      ],
      "metadata": {
        "colab": {
          "base_uri": "https://localhost:8080/"
        },
        "id": "VtxefCQ5KQzY",
        "outputId": "587bdcdd-13c1-40ad-d051-1a8656c6653c"
      },
      "execution_count": 4,
      "outputs": [
        {
          "output_type": "stream",
          "name": "stdout",
          "text": [
            "Downloading data from https://storage.googleapis.com/tensorflow/keras-applications/inception_resnet_v2/inception_resnet_v2_weights_tf_dim_ordering_tf_kernels_notop.h5\n",
            "\u001b[1m219055592/219055592\u001b[0m \u001b[32m━━━━━━━━━━━━━━━━━━━━\u001b[0m\u001b[37m\u001b[0m \u001b[1m1s\u001b[0m 0us/step\n"
          ]
        }
      ]
    },
    {
      "cell_type": "code",
      "source": [
        "# Compiling the model\n",
        "model_3_TL.compile(loss=\"sparse_categorical_crossentropy\",optimizer=\"adam\",metrics=[\"accuracy\"])\n",
        "\n",
        "# Saving the best model using Callbacks\n",
        "callbacks_3_TL = [keras.callbacks.ModelCheckpoint(\"Best_model_3_TL.weights.h5\",monitor='val_accuracy',save_weights_only=True,save_best_only=True)]\n",
        "\n",
        "# Training the model\n",
        "train_model_3_TL = model_3_TL.fit(x=X_train_std,y=y_train,epochs=10,validation_split=0.1,batch_size=16,callbacks=callbacks_3_TL)\n"
      ],
      "metadata": {
        "colab": {
          "base_uri": "https://localhost:8080/"
        },
        "id": "tIJQ4jDcKUnb",
        "outputId": "0b0fe790-2091-4579-e1ab-1bb097f1e499"
      },
      "execution_count": 5,
      "outputs": [
        {
          "output_type": "stream",
          "name": "stdout",
          "text": [
            "Epoch 1/10\n",
            "\u001b[1m45/45\u001b[0m \u001b[32m━━━━━━━━━━━━━━━━━━━━\u001b[0m\u001b[37m\u001b[0m \u001b[1m71s\u001b[0m 901ms/step - accuracy: 0.8472 - loss: 0.3929 - val_accuracy: 1.0000 - val_loss: 0.0166\n",
            "Epoch 2/10\n",
            "\u001b[1m45/45\u001b[0m \u001b[32m━━━━━━━━━━━━━━━━━━━━\u001b[0m\u001b[37m\u001b[0m \u001b[1m34s\u001b[0m 165ms/step - accuracy: 0.9992 - loss: 0.0163 - val_accuracy: 1.0000 - val_loss: 0.0076\n",
            "Epoch 3/10\n",
            "\u001b[1m45/45\u001b[0m \u001b[32m━━━━━━━━━━━━━━━━━━━━\u001b[0m\u001b[37m\u001b[0m \u001b[1m8s\u001b[0m 172ms/step - accuracy: 0.9997 - loss: 0.0094 - val_accuracy: 1.0000 - val_loss: 0.0055\n",
            "Epoch 4/10\n",
            "\u001b[1m45/45\u001b[0m \u001b[32m━━━━━━━━━━━━━━━━━━━━\u001b[0m\u001b[37m\u001b[0m \u001b[1m10s\u001b[0m 165ms/step - accuracy: 0.9997 - loss: 0.0067 - val_accuracy: 1.0000 - val_loss: 0.0035\n",
            "Epoch 5/10\n",
            "\u001b[1m45/45\u001b[0m \u001b[32m━━━━━━━━━━━━━━━━━━━━\u001b[0m\u001b[37m\u001b[0m \u001b[1m8s\u001b[0m 174ms/step - accuracy: 1.0000 - loss: 0.0042 - val_accuracy: 1.0000 - val_loss: 0.0025\n",
            "Epoch 6/10\n",
            "\u001b[1m45/45\u001b[0m \u001b[32m━━━━━━━━━━━━━━━━━━━━\u001b[0m\u001b[37m\u001b[0m \u001b[1m10s\u001b[0m 161ms/step - accuracy: 1.0000 - loss: 0.0041 - val_accuracy: 1.0000 - val_loss: 0.0020\n",
            "Epoch 7/10\n",
            "\u001b[1m45/45\u001b[0m \u001b[32m━━━━━━━━━━━━━━━━━━━━\u001b[0m\u001b[37m\u001b[0m \u001b[1m8s\u001b[0m 167ms/step - accuracy: 1.0000 - loss: 0.0026 - val_accuracy: 1.0000 - val_loss: 0.0016\n",
            "Epoch 8/10\n",
            "\u001b[1m45/45\u001b[0m \u001b[32m━━━━━━━━━━━━━━━━━━━━\u001b[0m\u001b[37m\u001b[0m \u001b[1m10s\u001b[0m 166ms/step - accuracy: 1.0000 - loss: 0.0028 - val_accuracy: 1.0000 - val_loss: 0.0015\n",
            "Epoch 9/10\n",
            "\u001b[1m45/45\u001b[0m \u001b[32m━━━━━━━━━━━━━━━━━━━━\u001b[0m\u001b[37m\u001b[0m \u001b[1m10s\u001b[0m 165ms/step - accuracy: 1.0000 - loss: 0.0021 - val_accuracy: 1.0000 - val_loss: 0.0012\n",
            "Epoch 10/10\n",
            "\u001b[1m45/45\u001b[0m \u001b[32m━━━━━━━━━━━━━━━━━━━━\u001b[0m\u001b[37m\u001b[0m \u001b[1m10s\u001b[0m 165ms/step - accuracy: 1.0000 - loss: 0.0018 - val_accuracy: 1.0000 - val_loss: 9.9446e-04\n"
          ]
        }
      ]
    },
    {
      "cell_type": "markdown",
      "source": [
        "### SAVING THE MODEL"
      ],
      "metadata": {
        "id": "RosM5FIWKaY7"
      }
    },
    {
      "cell_type": "code",
      "source": [
        "# Saving the best model obtained\n",
        "model_3_TL.save('/content/drive/MyDrive/Deep Learning Project/Model3/Best_model_3_TL.keras')"
      ],
      "metadata": {
        "id": "ADvsTWo9KaIQ"
      },
      "execution_count": 6,
      "outputs": []
    }
  ]
}